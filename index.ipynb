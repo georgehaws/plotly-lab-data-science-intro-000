{
 "cells": [
  {
   "cell_type": "markdown",
   "metadata": {},
   "source": [
    "### Introduction"
   ]
  },
  {
   "cell_type": "markdown",
   "metadata": {},
   "source": [
    "In this lab we will build out functions to help us plot visualizations in lessons going forward. "
   ]
  },
  {
   "cell_type": "markdown",
   "metadata": {},
   "source": [
    "### The Setup"
   ]
  },
  {
   "cell_type": "markdown",
   "metadata": {},
   "source": [
    "Let's start by providing a function called `plot` which plots our data."
   ]
  },
  {
   "cell_type": "code",
   "execution_count": 1,
   "metadata": {},
   "outputs": [
    {
     "data": {
      "text/html": [
       "<script>requirejs.config({paths: { 'plotly': ['https://cdn.plot.ly/plotly-latest.min']},});if(!window.Plotly) {{require(['plotly'],function(plotly) {window.Plotly=plotly;});}}</script>"
      ],
      "text/vnd.plotly.v1+html": [
       "<script>requirejs.config({paths: { 'plotly': ['https://cdn.plot.ly/plotly-latest.min']},});if(!window.Plotly) {{require(['plotly'],function(plotly) {window.Plotly=plotly;});}}</script>"
      ]
     },
     "metadata": {},
     "output_type": "display_data"
    }
   ],
   "source": [
    "import plotly\n",
    "from plotly.offline import iplot, init_notebook_mode\n",
    "\n",
    "init_notebook_mode(connected=True)\n",
    "\n",
    "def plot(figure):\n",
    "    plotly.offline.iplot(figure)\n",
    "    pass"
   ]
  },
  {
   "cell_type": "markdown",
   "metadata": {},
   "source": [
    "To see our plot on the screen, we provide our `plot` function a dictionary.  The dictionary has a key of `data` which points to a list of traces.  Let's see it!"
   ]
  },
  {
   "cell_type": "code",
   "execution_count": 2,
   "metadata": {},
   "outputs": [
    {
     "data": {
      "application/vnd.plotly.v1+json": {
       "data": [
        {
         "type": "scatter",
         "uid": "fe83103a-87ed-11e9-93df-617688dc46d1",
         "x": [
          1,
          2,
          3
         ],
         "y": [
          2,
          3,
          4
         ]
        },
        {
         "type": "scatter",
         "uid": "fe8311ca-87ed-11e9-93df-617688dc46d1",
         "x": [
          2,
          3,
          4
         ],
         "y": [
          5,
          3,
          4
         ]
        }
       ],
       "layout": {
        "title": "Our sample plot"
       }
      },
      "text/html": [
       "<div id=\"febd13dc-1820-4b47-9e04-3fcb5e59ab33\" style=\"height: 525px; width: 100%;\" class=\"plotly-graph-div\"></div><script type=\"text/javascript\">require([\"plotly\"], function(Plotly) { window.PLOTLYENV=window.PLOTLYENV || {};window.PLOTLYENV.BASE_URL=\"https://plot.ly\";Plotly.newPlot(\"febd13dc-1820-4b47-9e04-3fcb5e59ab33\", [{\"x\": [1, 2, 3], \"y\": [2, 3, 4], \"type\": \"scatter\", \"uid\": \"fe9d5ae4-87ed-11e9-93df-617688dc46d1\"}, {\"x\": [2, 3, 4], \"y\": [5, 3, 4], \"type\": \"scatter\", \"uid\": \"fe9d5c56-87ed-11e9-93df-617688dc46d1\"}], {\"title\": \"Our sample plot\"}, {\"showLink\": true, \"linkText\": \"Export to plot.ly\"})});</script>"
      ],
      "text/vnd.plotly.v1+html": [
       "<div id=\"febd13dc-1820-4b47-9e04-3fcb5e59ab33\" style=\"height: 525px; width: 100%;\" class=\"plotly-graph-div\"></div><script type=\"text/javascript\">require([\"plotly\"], function(Plotly) { window.PLOTLYENV=window.PLOTLYENV || {};window.PLOTLYENV.BASE_URL=\"https://plot.ly\";Plotly.newPlot(\"febd13dc-1820-4b47-9e04-3fcb5e59ab33\", [{\"x\": [1, 2, 3], \"y\": [2, 3, 4], \"type\": \"scatter\", \"uid\": \"fe9d5ae4-87ed-11e9-93df-617688dc46d1\"}, {\"x\": [2, 3, 4], \"y\": [5, 3, 4], \"type\": \"scatter\", \"uid\": \"fe9d5c56-87ed-11e9-93df-617688dc46d1\"}], {\"title\": \"Our sample plot\"}, {\"showLink\": true, \"linkText\": \"Export to plot.ly\"})});</script>"
      ]
     },
     "metadata": {},
     "output_type": "display_data"
    }
   ],
   "source": [
    "sample_trace = {'x': [1, 2, 3], 'y': [2, 3, 4]}\n",
    "other_sample_trace = {'x': [2, 3, 4], 'y': [5, 3, 4]}\n",
    "sample_figure = {'data': [sample_trace, other_sample_trace], 'layout': {'title': 'Our sample plot'}}\n",
    "plot(sample_figure)"
   ]
  },
  {
   "cell_type": "markdown",
   "metadata": {},
   "source": [
    "Ok, now that our `plot` function works, we need an easy way to create the following:  \n",
    "\n",
    "* traces\n",
    "* figures\n",
    "* layouts\n",
    "\n",
    "\n",
    "Let's take these one by one.  We'll start with a `build_trace` function that easily creates traces."
   ]
  },
  {
   "cell_type": "markdown",
   "metadata": {},
   "source": [
    "### A function to create traces"
   ]
  },
  {
   "cell_type": "markdown",
   "metadata": {},
   "source": [
    "#### build_trace"
   ]
  },
  {
   "cell_type": "markdown",
   "metadata": {},
   "source": [
    "Write a `build_trace` function that can take in data that comes in the following format: "
   ]
  },
  {
   "cell_type": "code",
   "execution_count": 3,
   "metadata": {},
   "outputs": [],
   "source": [
    "data = [{'x': 1, 'y': 1}, {'x': 3, 'y': 2}, {'x': 2, 'y': 5}]"
   ]
  },
  {
   "cell_type": "markdown",
   "metadata": {},
   "source": [
    "And returns data like the commented out dictionary below: \n",
    "\n",
    "```python\n",
    "data = [{'x': 1, 'y': 1}, {'x': 3, 'y': 2}, {'x': 2, 'y': 5}]\n",
    "build_trace(data)\n",
    "# {'mode': 'markers', 'name': 'data', 'x': [1, 3, 2], 'y': [1, 2, 5]}\n",
    "```\n",
    "\n",
    "So `build_trace` that takes in a list of data points as arguments and returns a dictionary with a key of `x` that points to a list of x values, and a key of `y` that points to a list of y values.\n",
    "\n",
    ">**Note:** Look at the parameters provided for `build_trace`.  The arguments `mode = 'markers'` and `name = 'data'` may seem scary since we haven't seem them before.  No need to worry!  These are **default arguments**.  \n",
    "\n",
    ">If no argument for `mode` or `name` is provided when we call the `build_trace` function, Python will automatically set these parameters to the value provided, which, in this case would be 'markers' for the mode and 'data' for the name."
   ]
  },
  {
   "cell_type": "code",
   "execution_count": 22,
   "metadata": {},
   "outputs": [],
   "source": [
    "def build_trace(data, grr = 'markers', drr = 'data'):\n",
    "    ploo = list(map(lambda x: x['x'], data))\n",
    "    floo = list(map(lambda x: x['y'], data))\n",
    "    grut = dict(mode = grr, name = drr, x = ploo, y = floo)\n",
    "    return grut"
   ]
  },
  {
   "cell_type": "markdown",
   "metadata": {},
   "source": [
    "So by default, if we just call `build_trace(data)` without specifying either a mode or a name, the function will automatically set these parameters to 'markers' and 'data' respectively."
   ]
  },
  {
   "cell_type": "code",
   "execution_count": 23,
   "metadata": {},
   "outputs": [
    {
     "data": {
      "text/plain": [
       "{'mode': 'markers', 'name': 'data', 'x': [1, 3, 2], 'y': [1, 2, 5]}"
      ]
     },
     "execution_count": 23,
     "metadata": {},
     "output_type": "execute_result"
    }
   ],
   "source": [
    "data = [{'x': 1, 'y': 1}, {'x': 3, 'y': 2}, {'x': 2, 'y': 5}]\n",
    "build_trace(data)\n",
    "# {'mode': 'markers', 'name': 'data', 'x': [1, 3, 2], 'y': [1, 2, 5]}"
   ]
  },
  {
   "cell_type": "markdown",
   "metadata": {},
   "source": [
    "If we want our `build_trace` function to take a different mode arguement, we add a second argument when we call the function which will overwrite the mode's default argument.   "
   ]
  },
  {
   "cell_type": "code",
   "execution_count": 18,
   "metadata": {},
   "outputs": [
    {
     "data": {
      "text/plain": [
       "{'mode': 'scatter', 'name': 'data', 'x': [1, 3, 2], 'y': [1, 2, 5]}"
      ]
     },
     "execution_count": 18,
     "metadata": {},
     "output_type": "execute_result"
    }
   ],
   "source": [
    "build_trace(data, 'scatter')\n",
    "# {'mode': 'scatter', 'name': 'data', 'x': [1, 3, 2], 'y': [1, 2, 5]}"
   ]
  },
  {
   "cell_type": "markdown",
   "metadata": {},
   "source": [
    "We could do the same thing with the name of the plot.  This is useful for when we have more than one trace in the same plot.\n",
    "\n",
    "> Order matters.  The value passed through as the `name` argument, should correspond to the value of the `name` key in our returned dictionary."
   ]
  },
  {
   "cell_type": "code",
   "execution_count": 19,
   "metadata": {},
   "outputs": [
    {
     "data": {
      "text/plain": [
       "{'mode': 'markers', 'name': 'sample plot', 'x': [1, 3, 2], 'y': [1, 2, 5]}"
      ]
     },
     "execution_count": 19,
     "metadata": {},
     "output_type": "execute_result"
    }
   ],
   "source": [
    "build_trace(data, 'markers', 'sample plot')\n",
    "# {'mode': 'markers', 'name': 'sample plot', 'x': [1, 3, 2], 'y': [1, 2, 5]}"
   ]
  },
  {
   "cell_type": "code",
   "execution_count": 25,
   "metadata": {},
   "outputs": [
    {
     "data": {
      "application/vnd.plotly.v1+json": {
       "data": [
        {
         "mode": "markers",
         "name": "data",
         "type": "scatter",
         "uid": "769f3930-87f4-11e9-93df-617688dc46d1",
         "x": [
          1,
          3,
          2
         ],
         "y": [
          1,
          2,
          5
         ]
        },
        {
         "mode": "lines",
         "name": "my_trace",
         "type": "scatter",
         "uid": "769f3b24-87f4-11e9-93df-617688dc46d1",
         "x": [
          1,
          3,
          2
         ],
         "y": [
          1,
          2,
          5
         ]
        }
       ],
       "layout": {}
      },
      "text/html": [
       "<div id=\"3205cf65-7b70-454b-a705-9fac2c476536\" style=\"height: 525px; width: 100%;\" class=\"plotly-graph-div\"></div><script type=\"text/javascript\">require([\"plotly\"], function(Plotly) { window.PLOTLYENV=window.PLOTLYENV || {};window.PLOTLYENV.BASE_URL=\"https://plot.ly\";Plotly.newPlot(\"3205cf65-7b70-454b-a705-9fac2c476536\", [{\"mode\": \"markers\", \"name\": \"data\", \"x\": [1, 3, 2], \"y\": [1, 2, 5], \"type\": \"scatter\", \"uid\": \"76ab27d6-87f4-11e9-93df-617688dc46d1\"}, {\"mode\": \"lines\", \"name\": \"my_trace\", \"x\": [1, 3, 2], \"y\": [1, 2, 5], \"type\": \"scatter\", \"uid\": \"76ab2970-87f4-11e9-93df-617688dc46d1\"}], {}, {\"showLink\": true, \"linkText\": \"Export to plot.ly\"})});</script>"
      ],
      "text/vnd.plotly.v1+html": [
       "<div id=\"3205cf65-7b70-454b-a705-9fac2c476536\" style=\"height: 525px; width: 100%;\" class=\"plotly-graph-div\"></div><script type=\"text/javascript\">require([\"plotly\"], function(Plotly) { window.PLOTLYENV=window.PLOTLYENV || {};window.PLOTLYENV.BASE_URL=\"https://plot.ly\";Plotly.newPlot(\"3205cf65-7b70-454b-a705-9fac2c476536\", [{\"mode\": \"markers\", \"name\": \"data\", \"x\": [1, 3, 2], \"y\": [1, 2, 5], \"type\": \"scatter\", \"uid\": \"76ab27d6-87f4-11e9-93df-617688dc46d1\"}, {\"mode\": \"lines\", \"name\": \"my_trace\", \"x\": [1, 3, 2], \"y\": [1, 2, 5], \"type\": \"scatter\", \"uid\": \"76ab2970-87f4-11e9-93df-617688dc46d1\"}], {}, {\"showLink\": true, \"linkText\": \"Export to plot.ly\"})});</script>"
      ]
     },
     "metadata": {},
     "output_type": "display_data"
    }
   ],
   "source": [
    "trace0 = build_trace(data)\n",
    "trace0 = build_trace(data, 'markers')\n",
    "trace1 = build_trace(data, 'lines', 'my_trace')\n",
    "plot({'data':[trace0, trace1]})"
   ]
  },
  {
   "cell_type": "markdown",
   "metadata": {},
   "source": [
    "#### trace_values"
   ]
  },
  {
   "cell_type": "markdown",
   "metadata": {},
   "source": [
    "Now let's write another function to create a trace called `trace_values`.  It works just like our `build_trace` function, except that it takes in a list of x_values and a list of y_values and returns our trace dictionary.  We will use default argument again here in the same manner as before."
   ]
  },
  {
   "cell_type": "code",
   "execution_count": 103,
   "metadata": {},
   "outputs": [],
   "source": [
    "def trace_values(x_values, y_values, mode = 'markers', name = \"data\"):\n",
    "    bloo = {'mode' : mode, 'name' : name, 'x' : x_values, 'y' : y_values}\n",
    "    return bloo"
   ]
  },
  {
   "cell_type": "code",
   "execution_count": 31,
   "metadata": {},
   "outputs": [
    {
     "data": {
      "text/plain": [
       "{'mode': 'markers', 'name': 'data', 'x': [1, 2, 3], 'y': [2, 4, 5]}"
      ]
     },
     "execution_count": 31,
     "metadata": {},
     "output_type": "execute_result"
    }
   ],
   "source": [
    "trace_values([1, 2, 3], [2, 4, 5])\n",
    "\n",
    "# {'mode': 'markers', 'name': 'data', 'x': [1, 2, 3], 'y': [2, 4, 5]}"
   ]
  },
  {
   "cell_type": "markdown",
   "metadata": {},
   "source": [
    "Now let's try to build a line trace with our newly defined `trace_values` function.  We will set `mode` to 'lines' and the `name` of our trace to 'line trace'."
   ]
  },
  {
   "cell_type": "code",
   "execution_count": 32,
   "metadata": {},
   "outputs": [
    {
     "data": {
      "text/plain": [
       "{'mode': 'lines', 'name': 'line trace', 'x': [1, 2, 3], 'y': [2, 4, 5]}"
      ]
     },
     "execution_count": 32,
     "metadata": {},
     "output_type": "execute_result"
    }
   ],
   "source": [
    "trace_values([1, 2, 3], [2, 4, 5], 'lines', 'line trace')\n",
    "# {'mode': 'lines', 'name': 'line trace', 'x': [1, 2, 3], 'y': [2, 4, 5]}"
   ]
  },
  {
   "cell_type": "markdown",
   "metadata": {},
   "source": [
    "From there, we can use our `trace_values` function to plot our chart."
   ]
  },
  {
   "cell_type": "markdown",
   "metadata": {},
   "source": [
    "> Uncomment and run the code below"
   ]
  },
  {
   "cell_type": "code",
   "execution_count": 33,
   "metadata": {},
   "outputs": [
    {
     "data": {
      "application/vnd.plotly.v1+json": {
       "data": [
        {
         "mode": "lines",
         "name": "line trace",
         "type": "scatter",
         "uid": "b6f3c072-87f5-11e9-93df-617688dc46d1",
         "x": [
          1,
          2,
          3
         ],
         "y": [
          2,
          4,
          5
         ]
        }
       ],
       "layout": {}
      },
      "text/html": [
       "<div id=\"18665a4d-1198-4872-bc9b-3299ccd49233\" style=\"height: 525px; width: 100%;\" class=\"plotly-graph-div\"></div><script type=\"text/javascript\">require([\"plotly\"], function(Plotly) { window.PLOTLYENV=window.PLOTLYENV || {};window.PLOTLYENV.BASE_URL=\"https://plot.ly\";Plotly.newPlot(\"18665a4d-1198-4872-bc9b-3299ccd49233\", [{\"mode\": \"lines\", \"name\": \"line trace\", \"x\": [1, 2, 3], \"y\": [2, 4, 5], \"type\": \"scatter\", \"uid\": \"b6fc1d1c-87f5-11e9-93df-617688dc46d1\"}], {}, {\"showLink\": true, \"linkText\": \"Export to plot.ly\"})});</script>"
      ],
      "text/vnd.plotly.v1+html": [
       "<div id=\"18665a4d-1198-4872-bc9b-3299ccd49233\" style=\"height: 525px; width: 100%;\" class=\"plotly-graph-div\"></div><script type=\"text/javascript\">require([\"plotly\"], function(Plotly) { window.PLOTLYENV=window.PLOTLYENV || {};window.PLOTLYENV.BASE_URL=\"https://plot.ly\";Plotly.newPlot(\"18665a4d-1198-4872-bc9b-3299ccd49233\", [{\"mode\": \"lines\", \"name\": \"line trace\", \"x\": [1, 2, 3], \"y\": [2, 4, 5], \"type\": \"scatter\", \"uid\": \"b6fc1d1c-87f5-11e9-93df-617688dc46d1\"}], {}, {\"showLink\": true, \"linkText\": \"Export to plot.ly\"})});</script>"
      ]
     },
     "metadata": {},
     "output_type": "display_data"
    }
   ],
   "source": [
    "trace2 = trace_values([1, 2, 3], [2, 4, 5], 'lines', 'line trace')\n",
    "plot({'data': [trace2]})"
   ]
  },
  {
   "cell_type": "markdown",
   "metadata": {},
   "source": [
    "### Creating layouts"
   ]
  },
  {
   "cell_type": "markdown",
   "metadata": {},
   "source": [
    "Ok, now that we have built some functions to create traces, let's write a function to create a layout.  Remember that our layout also can be passed to our plot function."
   ]
  },
  {
   "cell_type": "markdown",
   "metadata": {},
   "source": [
    "> Uncomment and run the code below."
   ]
  },
  {
   "cell_type": "code",
   "execution_count": 34,
   "metadata": {},
   "outputs": [
    {
     "data": {
      "application/vnd.plotly.v1+json": {
       "data": [
        {
         "mode": "markers",
         "name": "data",
         "type": "scatter",
         "uid": "d4eef2d6-87f5-11e9-93df-617688dc46d1",
         "x": [
          1,
          3,
          2
         ],
         "y": [
          1,
          2,
          5
         ]
        },
        {
         "mode": "lines",
         "name": "line trace",
         "type": "scatter",
         "uid": "d4eef4b6-87f5-11e9-93df-617688dc46d1",
         "x": [
          1,
          2,
          3
         ],
         "y": [
          2,
          4,
          5
         ]
        }
       ],
       "layout": {
        "title": "Sample Title"
       }
      },
      "text/html": [
       "<div id=\"a5220860-2193-4287-8f00-66051cdef4a5\" style=\"height: 525px; width: 100%;\" class=\"plotly-graph-div\"></div><script type=\"text/javascript\">require([\"plotly\"], function(Plotly) { window.PLOTLYENV=window.PLOTLYENV || {};window.PLOTLYENV.BASE_URL=\"https://plot.ly\";Plotly.newPlot(\"a5220860-2193-4287-8f00-66051cdef4a5\", [{\"mode\": \"markers\", \"name\": \"data\", \"x\": [1, 3, 2], \"y\": [1, 2, 5], \"type\": \"scatter\", \"uid\": \"d4f6e3e2-87f5-11e9-93df-617688dc46d1\"}, {\"mode\": \"lines\", \"name\": \"line trace\", \"x\": [1, 2, 3], \"y\": [2, 4, 5], \"type\": \"scatter\", \"uid\": \"d4f6e662-87f5-11e9-93df-617688dc46d1\"}], {\"title\": \"Sample Title\"}, {\"showLink\": true, \"linkText\": \"Export to plot.ly\"})});</script>"
      ],
      "text/vnd.plotly.v1+html": [
       "<div id=\"a5220860-2193-4287-8f00-66051cdef4a5\" style=\"height: 525px; width: 100%;\" class=\"plotly-graph-div\"></div><script type=\"text/javascript\">require([\"plotly\"], function(Plotly) { window.PLOTLYENV=window.PLOTLYENV || {};window.PLOTLYENV.BASE_URL=\"https://plot.ly\";Plotly.newPlot(\"a5220860-2193-4287-8f00-66051cdef4a5\", [{\"mode\": \"markers\", \"name\": \"data\", \"x\": [1, 3, 2], \"y\": [1, 2, 5], \"type\": \"scatter\", \"uid\": \"d4f6e3e2-87f5-11e9-93df-617688dc46d1\"}, {\"mode\": \"lines\", \"name\": \"line trace\", \"x\": [1, 2, 3], \"y\": [2, 4, 5], \"type\": \"scatter\", \"uid\": \"d4f6e662-87f5-11e9-93df-617688dc46d1\"}], {\"title\": \"Sample Title\"}, {\"showLink\": true, \"linkText\": \"Export to plot.ly\"})});</script>"
      ]
     },
     "metadata": {},
     "output_type": "display_data"
    }
   ],
   "source": [
    "plot({'data': [trace0, trace2], 'layout': {'title': 'Sample Title'}})"
   ]
  },
  {
   "cell_type": "markdown",
   "metadata": {},
   "source": [
    "Our `layout` function should return a dictionary, just as it's defined in the above plot.  We'll start by returning an empty dictionary then below we'll walk through building out the rest of the function."
   ]
  },
  {
   "cell_type": "code",
   "execution_count": 37,
   "metadata": {},
   "outputs": [],
   "source": [
    "def layout(x_range = None, y_range = None, options = {}):\n",
    "    pringo = dict()\n",
    "    return pringo"
   ]
  },
  {
   "cell_type": "code",
   "execution_count": 38,
   "metadata": {},
   "outputs": [
    {
     "data": {
      "text/plain": [
       "{}"
      ]
     },
     "execution_count": 38,
     "metadata": {},
     "output_type": "execute_result"
    }
   ],
   "source": [
    "layout()\n",
    "# {}"
   ]
  },
  {
   "cell_type": "markdown",
   "metadata": {},
   "source": [
    "#### Setting the xaxis and yaxis range"
   ]
  },
  {
   "cell_type": "markdown",
   "metadata": {},
   "source": [
    "Oftentimes in building a layout, we want an easy way to set the range for the `x` and `y` axis.  To set a range in the x-axis of $1$ through $4$ and a range of the y-axis of $2$ through $5$, we return a layout of the following structure.\n",
    "```python\n",
    "{'xaxis': {'range': [1, 4]}, 'yaxis': {'range': [2, 5]}}\n",
    "```\n",
    "\n",
    "Let's start with adding functionality to the `layout()` function so it can set the range for the x-axis.  (**Hint**: Google search Python's built-in `isinstance()` and `update()` functions.)\n",
    "\n",
    "Add an argument of x_range returns a dictionary with a range set on the xaxis."
   ]
  },
  {
   "cell_type": "code",
   "execution_count": 57,
   "metadata": {},
   "outputs": [
    {
     "data": {
      "text/plain": [
       "{'xaxis': {'range': [1, 4]}}"
      ]
     },
     "execution_count": 57,
     "metadata": {},
     "output_type": "execute_result"
    }
   ],
   "source": [
    "def layout(x_range = None, y_range = None, options = {}):\n",
    "    pringo = dict()\n",
    "    if isinstance(x_range, list):\n",
    "        pringo = dict(xaxis = dict(range = x_range))\n",
    "    return pringo\n",
    "\n",
    "layout([1, 4])\n",
    "# {'xaxis': {'range': [1, 4]}}"
   ]
  },
  {
   "cell_type": "markdown",
   "metadata": {},
   "source": [
    "We want to ensure that when an x_range is not provided, an empty dictionary is still returned.  \n",
    "```python\n",
    "layout()\n",
    "# {}\n",
    "\n",
    "```\n",
    "The `x_range` should be a default argument that sets `x_range` to `None`.  Then, only add a key of xaxis to the dictionary layout when the `x_range` does not equal `None`."
   ]
  },
  {
   "cell_type": "code",
   "execution_count": 58,
   "metadata": {},
   "outputs": [
    {
     "data": {
      "text/plain": [
       "{}"
      ]
     },
     "execution_count": 58,
     "metadata": {},
     "output_type": "execute_result"
    }
   ],
   "source": [
    "layout() # {}"
   ]
  },
  {
   "cell_type": "markdown",
   "metadata": {},
   "source": [
    "Now let's provide the same functionality for the `y_range`.  When the `y_range` is provided we add a key of `yaxis` which points to a dictionary that expresses the y-axis range."
   ]
  },
  {
   "cell_type": "code",
   "execution_count": 76,
   "metadata": {
    "scrolled": true
   },
   "outputs": [
    {
     "data": {
      "text/plain": [
       "{'xaxis': {'range': [1, 3]}, 'yaxis': {'range': [4, 5]}}"
      ]
     },
     "execution_count": 76,
     "metadata": {},
     "output_type": "execute_result"
    }
   ],
   "source": [
    "def layout(x_range = None, y_range = None, options = {}):\n",
    "    pringo = dict()\n",
    "    lingo = dict()\n",
    "    stanko = dict()\n",
    "    if isinstance(x_range, list):\n",
    "        pringo = dict(range = x_range)\n",
    "        stanko = dict(xaxis = pringo)\n",
    "        if isinstance(y_range, list):\n",
    "            lingo = dict(range = y_range)\n",
    "            stanko = dict(xaxis = pringo, yaxis = lingo)\n",
    "    return stanko\n",
    "\n",
    "layout([1, 3], [4, 5])\n",
    "# {'xaxis': {'range': [1, 3]}, 'yaxis': {'range': [4, 5]}}"
   ]
  },
  {
   "cell_type": "markdown",
   "metadata": {},
   "source": [
    "#### Adding layout options"
   ]
  },
  {
   "cell_type": "markdown",
   "metadata": {},
   "source": [
    "Now have the final argument of our layout function be options.  The `options` argument should by default point to a dictionary.  And whatever is provided as pointing to the options argument should be updated into the returned dictionary.    "
   ]
  },
  {
   "cell_type": "code",
   "execution_count": 89,
   "metadata": {
    "scrolled": false
   },
   "outputs": [
    {
     "data": {
      "text/plain": [
       "{'title': 'foo'}"
      ]
     },
     "execution_count": 89,
     "metadata": {},
     "output_type": "execute_result"
    }
   ],
   "source": [
    "def layout(x_range = None, y_range = None, options = {}):\n",
    "    pringo = dict()\n",
    "    lingo = dict()\n",
    "    stanko = dict()\n",
    "    if isinstance(options, dict):\n",
    "        if bool(options) != False:\n",
    "            skroo = dict(options)\n",
    "            stanko.update(skroo)\n",
    "    if isinstance(x_range, list):\n",
    "        pringo = dict(range = x_range)\n",
    "        stanko.update(dict(xaxis = pringo))\n",
    "        if isinstance(y_range, list):\n",
    "            lingo = dict(range = y_range)\n",
    "            stanko.update(dict(yaxis = lingo))\n",
    "    return stanko\n",
    "\n",
    "layout(options = {'title': 'foo'})"
   ]
  },
  {
   "cell_type": "code",
   "execution_count": 90,
   "metadata": {},
   "outputs": [
    {
     "data": {
      "text/plain": [
       "{'title': 'chart', 'xaxis': {'range': [1, 3]}}"
      ]
     },
     "execution_count": 90,
     "metadata": {},
     "output_type": "execute_result"
    }
   ],
   "source": [
    "layout([1, 3], options = {'title': 'chart'})\n",
    "\n",
    "# {'title': 'chart', 'xaxis': {'range': [1, 3]}}"
   ]
  },
  {
   "cell_type": "markdown",
   "metadata": {},
   "source": [
    "Ok, now let's see this `layout` function in action."
   ]
  },
  {
   "cell_type": "code",
   "execution_count": 92,
   "metadata": {},
   "outputs": [
    {
     "data": {
      "application/vnd.plotly.v1+json": {
       "data": [
        {
         "mode": "markers",
         "name": "data",
         "type": "scatter",
         "uid": "7da3c210-87fd-11e9-93df-617688dc46d1",
         "x": [
          1,
          2,
          3
         ],
         "y": [
          6,
          3,
          1
         ]
        }
       ],
       "layout": {
        "title": "Going Down...",
        "xaxis": {
         "range": [
          -1,
          4
         ]
        },
        "yaxis": {
         "range": [
          0,
          7
         ]
        }
       }
      },
      "text/html": [
       "<div id=\"b468bdc6-f5cc-49b8-96b4-cbc6b22deb30\" style=\"height: 525px; width: 100%;\" class=\"plotly-graph-div\"></div><script type=\"text/javascript\">require([\"plotly\"], function(Plotly) { window.PLOTLYENV=window.PLOTLYENV || {};window.PLOTLYENV.BASE_URL=\"https://plot.ly\";Plotly.newPlot(\"b468bdc6-f5cc-49b8-96b4-cbc6b22deb30\", [{\"mode\": \"markers\", \"name\": \"data\", \"x\": [1, 2, 3], \"y\": [6, 3, 1], \"type\": \"scatter\", \"uid\": \"7da894e8-87fd-11e9-93df-617688dc46d1\"}], {\"title\": \"Going Down...\", \"xaxis\": {\"range\": [-1, 4]}, \"yaxis\": {\"range\": [0, 7]}}, {\"showLink\": true, \"linkText\": \"Export to plot.ly\"})});</script>"
      ],
      "text/vnd.plotly.v1+html": [
       "<div id=\"b468bdc6-f5cc-49b8-96b4-cbc6b22deb30\" style=\"height: 525px; width: 100%;\" class=\"plotly-graph-div\"></div><script type=\"text/javascript\">require([\"plotly\"], function(Plotly) { window.PLOTLYENV=window.PLOTLYENV || {};window.PLOTLYENV.BASE_URL=\"https://plot.ly\";Plotly.newPlot(\"b468bdc6-f5cc-49b8-96b4-cbc6b22deb30\", [{\"mode\": \"markers\", \"name\": \"data\", \"x\": [1, 2, 3], \"y\": [6, 3, 1], \"type\": \"scatter\", \"uid\": \"7da894e8-87fd-11e9-93df-617688dc46d1\"}], {\"title\": \"Going Down...\", \"xaxis\": {\"range\": [-1, 4]}, \"yaxis\": {\"range\": [0, 7]}}, {\"showLink\": true, \"linkText\": \"Export to plot.ly\"})});</script>"
      ]
     },
     "metadata": {},
     "output_type": "display_data"
    }
   ],
   "source": [
    "another_trace = trace_values([1, 2, 3], [6, 3, 1])\n",
    "another_layout = layout([-1, 4], [0, 7], {'title': 'Going Down...'})\n",
    "plot({'data': [another_trace], 'layout': another_layout})"
   ]
  },
  {
   "cell_type": "markdown",
   "metadata": {},
   "source": [
    "Finally, we'll modify the `plot` function for you so that it takes the data, and the layout as arguments."
   ]
  },
  {
   "cell_type": "code",
   "execution_count": 93,
   "metadata": {},
   "outputs": [],
   "source": [
    "def plot(traces = [], layout = {}):\n",
    "    if not isinstance(traces, list): raise TypeError('first argument must be a list.  Instead is', traces)\n",
    "    if not isinstance(layout, dict): raise TypeError('second argument must be a dict.  Instead is', layout)\n",
    "    plotly.offline.iplot({'data': traces, 'layout': layout})"
   ]
  },
  {
   "cell_type": "markdown",
   "metadata": {},
   "source": [
    "Uncomment the below code to see the updated `plot` function in action.  "
   ]
  },
  {
   "cell_type": "code",
   "execution_count": 99,
   "metadata": {},
   "outputs": [
    {
     "data": {
      "application/vnd.plotly.v1+json": {
       "data": [
        {
         "mode": "lines",
         "name": "data",
         "type": "scatter",
         "uid": "051073e2-87fe-11e9-93df-617688dc46d1",
         "x": [
          4,
          5,
          6
         ],
         "y": [
          10,
          5,
          1
         ]
        }
       ],
       "layout": {
        "title": "The Big Picture"
       }
      },
      "text/html": [
       "<div id=\"d1c2942b-4fb5-4aa4-b6ac-f78e8054fe82\" style=\"height: 525px; width: 100%;\" class=\"plotly-graph-div\"></div><script type=\"text/javascript\">require([\"plotly\"], function(Plotly) { window.PLOTLYENV=window.PLOTLYENV || {};window.PLOTLYENV.BASE_URL=\"https://plot.ly\";Plotly.newPlot(\"d1c2942b-4fb5-4aa4-b6ac-f78e8054fe82\", [{\"mode\": \"lines\", \"name\": \"data\", \"x\": [4, 5, 6], \"y\": [10, 5, 1], \"type\": \"scatter\", \"uid\": \"05145714-87fe-11e9-93df-617688dc46d1\"}], {\"title\": \"The Big Picture\"}, {\"showLink\": true, \"linkText\": \"Export to plot.ly\"})});</script>"
      ],
      "text/vnd.plotly.v1+html": [
       "<div id=\"d1c2942b-4fb5-4aa4-b6ac-f78e8054fe82\" style=\"height: 525px; width: 100%;\" class=\"plotly-graph-div\"></div><script type=\"text/javascript\">require([\"plotly\"], function(Plotly) { window.PLOTLYENV=window.PLOTLYENV || {};window.PLOTLYENV.BASE_URL=\"https://plot.ly\";Plotly.newPlot(\"d1c2942b-4fb5-4aa4-b6ac-f78e8054fe82\", [{\"mode\": \"lines\", \"name\": \"data\", \"x\": [4, 5, 6], \"y\": [10, 5, 1], \"type\": \"scatter\", \"uid\": \"05145714-87fe-11e9-93df-617688dc46d1\"}], {\"title\": \"The Big Picture\"}, {\"showLink\": true, \"linkText\": \"Export to plot.ly\"})});</script>"
      ]
     },
     "metadata": {},
     "output_type": "display_data"
    }
   ],
   "source": [
    "trace4 = trace_values([4, 5, 6], [10, 5, 1], 'lines')\n",
    "last_layout = layout(options = {'title': 'The Big Picture'})\n",
    "plot([trace4], last_layout)"
   ]
  },
  {
   "cell_type": "markdown",
   "metadata": {
    "collapsed": true
   },
   "source": [
    "### Summary "
   ]
  },
  {
   "cell_type": "markdown",
   "metadata": {},
   "source": [
    "In this lab, we built out some methods so that we can easily create graphs going forward.  We'll make good use of them in the lessons to come, as well as write new methods to help us easily display information in our charts."
   ]
  }
 ],
 "metadata": {
  "kernelspec": {
   "display_name": "Python 3",
   "language": "python",
   "name": "python3"
  },
  "language_info": {
   "codemirror_mode": {
    "name": "ipython",
    "version": 3
   },
   "file_extension": ".py",
   "mimetype": "text/x-python",
   "name": "python",
   "nbconvert_exporter": "python",
   "pygments_lexer": "ipython3",
   "version": "3.6.6"
  }
 },
 "nbformat": 4,
 "nbformat_minor": 2
}
